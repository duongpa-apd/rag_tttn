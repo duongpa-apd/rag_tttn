{
  "cells": [
    {
      "cell_type": "markdown",
      "metadata": {
        "id": "view-in-github",
        "colab_type": "text"
      },
      "source": [
        "<a href=\"https://colab.research.google.com/github/duongpa-apd/rag_tttn/blob/master/RAG_Mathematics_for_Economics.ipynb\" target=\"_parent\"><img src=\"https://colab.research.google.com/assets/colab-badge.svg\" alt=\"Open In Colab\"/></a>"
      ]
    },
    {
      "cell_type": "markdown",
      "metadata": {
        "id": "pYAOL52r8hRn"
      },
      "source": [
        "# **Install and import libraries**"
      ]
    },
    {
      "cell_type": "code",
      "execution_count": 1,
      "metadata": {
        "id": "qo_AzYa56OTx",
        "colab": {
          "base_uri": "https://localhost:8080/"
        },
        "outputId": "93034f47-a5f5-4ee8-cda9-fd9ce2480c65"
      },
      "outputs": [
        {
          "output_type": "stream",
          "name": "stdout",
          "text": [
            "\u001b[2K   \u001b[90m━━━━━━━━━━━━━━━━━━━━━━━━━━━━━━━━━━━━━━━━\u001b[0m \u001b[32m2.5/2.5 MB\u001b[0m \u001b[31m16.3 MB/s\u001b[0m eta \u001b[36m0:00:00\u001b[0m\n",
            "\u001b[2K   \u001b[90m━━━━━━━━━━━━━━━━━━━━━━━━━━━━━━━━━━━━━━━━\u001b[0m \u001b[32m45.2/45.2 kB\u001b[0m \u001b[31m2.5 MB/s\u001b[0m eta \u001b[36m0:00:00\u001b[0m\n",
            "\u001b[2K   \u001b[90m━━━━━━━━━━━━━━━━━━━━━━━━━━━━━━━━━━━━━━━━\u001b[0m \u001b[32m50.9/50.9 kB\u001b[0m \u001b[31m3.3 MB/s\u001b[0m eta \u001b[36m0:00:00\u001b[0m\n",
            "\u001b[2K     \u001b[90m━━━━━━━━━━━━━━━━━━━━━━━━━━━━━━━━━━━━━━━━\u001b[0m \u001b[32m67.3/67.3 kB\u001b[0m \u001b[31m2.2 MB/s\u001b[0m eta \u001b[36m0:00:00\u001b[0m\n",
            "\u001b[?25h  Installing build dependencies ... \u001b[?25l\u001b[?25hdone\n",
            "  Getting requirements to build wheel ... \u001b[?25l\u001b[?25hdone\n",
            "  Preparing metadata (pyproject.toml) ... \u001b[?25l\u001b[?25hdone\n",
            "\u001b[2K   \u001b[90m━━━━━━━━━━━━━━━━━━━━━━━━━━━━━━━━━━━━━━━━\u001b[0m \u001b[32m42.0/42.0 kB\u001b[0m \u001b[31m2.8 MB/s\u001b[0m eta \u001b[36m0:00:00\u001b[0m\n",
            "\u001b[2K   \u001b[90m━━━━━━━━━━━━━━━━━━━━━━━━━━━━━━━━━━━━━━━━\u001b[0m \u001b[32m305.5/305.5 kB\u001b[0m \u001b[31m9.3 MB/s\u001b[0m eta \u001b[36m0:00:00\u001b[0m\n",
            "\u001b[2K   \u001b[90m━━━━━━━━━━━━━━━━━━━━━━━━━━━━━━━━━━━━━━━━\u001b[0m \u001b[32m19.5/19.5 MB\u001b[0m \u001b[31m78.9 MB/s\u001b[0m eta \u001b[36m0:00:00\u001b[0m\n",
            "\u001b[2K   \u001b[90m━━━━━━━━━━━━━━━━━━━━━━━━━━━━━━━━━━━━━━━━\u001b[0m \u001b[32m284.2/284.2 kB\u001b[0m \u001b[31m17.0 MB/s\u001b[0m eta \u001b[36m0:00:00\u001b[0m\n",
            "\u001b[2K   \u001b[90m━━━━━━━━━━━━━━━━━━━━━━━━━━━━━━━━━━━━━━━━\u001b[0m \u001b[32m1.9/1.9 MB\u001b[0m \u001b[31m69.8 MB/s\u001b[0m eta \u001b[36m0:00:00\u001b[0m\n",
            "\u001b[2K   \u001b[90m━━━━━━━━━━━━━━━━━━━━━━━━━━━━━━━━━━━━━━━━\u001b[0m \u001b[32m101.6/101.6 kB\u001b[0m \u001b[31m7.7 MB/s\u001b[0m eta \u001b[36m0:00:00\u001b[0m\n",
            "\u001b[2K   \u001b[90m━━━━━━━━━━━━━━━━━━━━━━━━━━━━━━━━━━━━━━━━\u001b[0m \u001b[32m16.4/16.4 MB\u001b[0m \u001b[31m89.2 MB/s\u001b[0m eta \u001b[36m0:00:00\u001b[0m\n",
            "\u001b[2K   \u001b[90m━━━━━━━━━━━━━━━━━━━━━━━━━━━━━━━━━━━━━━━━\u001b[0m \u001b[32m65.8/65.8 kB\u001b[0m \u001b[31m4.7 MB/s\u001b[0m eta \u001b[36m0:00:00\u001b[0m\n",
            "\u001b[2K   \u001b[90m━━━━━━━━━━━━━━━━━━━━━━━━━━━━━━━━━━━━━━━━\u001b[0m \u001b[32m55.7/55.7 kB\u001b[0m \u001b[31m3.8 MB/s\u001b[0m eta \u001b[36m0:00:00\u001b[0m\n",
            "\u001b[2K   \u001b[90m━━━━━━━━━━━━━━━━━━━━━━━━━━━━━━━━━━━━━━━━\u001b[0m \u001b[32m118.5/118.5 kB\u001b[0m \u001b[31m8.6 MB/s\u001b[0m eta \u001b[36m0:00:00\u001b[0m\n",
            "\u001b[2K   \u001b[90m━━━━━━━━━━━━━━━━━━━━━━━━━━━━━━━━━━━━━━━━\u001b[0m \u001b[32m196.2/196.2 kB\u001b[0m \u001b[31m12.8 MB/s\u001b[0m eta \u001b[36m0:00:00\u001b[0m\n",
            "\u001b[2K   \u001b[90m━━━━━━━━━━━━━━━━━━━━━━━━━━━━━━━━━━━━━━━━\u001b[0m \u001b[32m105.4/105.4 kB\u001b[0m \u001b[31m7.8 MB/s\u001b[0m eta \u001b[36m0:00:00\u001b[0m\n",
            "\u001b[2K   \u001b[90m━━━━━━━━━━━━━━━━━━━━━━━━━━━━━━━━━━━━━━━━\u001b[0m \u001b[32m71.2/71.2 kB\u001b[0m \u001b[31m5.0 MB/s\u001b[0m eta \u001b[36m0:00:00\u001b[0m\n",
            "\u001b[2K   \u001b[90m━━━━━━━━━━━━━━━━━━━━━━━━━━━━━━━━━━━━━━━━\u001b[0m \u001b[32m459.8/459.8 kB\u001b[0m \u001b[31m27.6 MB/s\u001b[0m eta \u001b[36m0:00:00\u001b[0m\n",
            "\u001b[2K   \u001b[90m━━━━━━━━━━━━━━━━━━━━━━━━━━━━━━━━━━━━━━━━\u001b[0m \u001b[32m4.0/4.0 MB\u001b[0m \u001b[31m87.3 MB/s\u001b[0m eta \u001b[36m0:00:00\u001b[0m\n",
            "\u001b[2K   \u001b[90m━━━━━━━━━━━━━━━━━━━━━━━━━━━━━━━━━━━━━━━━\u001b[0m \u001b[32m453.1/453.1 kB\u001b[0m \u001b[31m26.8 MB/s\u001b[0m eta \u001b[36m0:00:00\u001b[0m\n",
            "\u001b[2K   \u001b[90m━━━━━━━━━━━━━━━━━━━━━━━━━━━━━━━━━━━━━━━━\u001b[0m \u001b[32m46.0/46.0 kB\u001b[0m \u001b[31m3.4 MB/s\u001b[0m eta \u001b[36m0:00:00\u001b[0m\n",
            "\u001b[2K   \u001b[90m━━━━━━━━━━━━━━━━━━━━━━━━━━━━━━━━━━━━━━━━\u001b[0m \u001b[32m86.8/86.8 kB\u001b[0m \u001b[31m6.5 MB/s\u001b[0m eta \u001b[36m0:00:00\u001b[0m\n",
            "\u001b[?25h  Building wheel for pypika (pyproject.toml) ... \u001b[?25l\u001b[?25hdone\n"
          ]
        }
      ],
      "source": [
        "!pip install -qU langchain langchain-community langchain-text-splitters\n",
        "!pip install -qU langchain_google_genai langchain-chroma pypdf google-ai-generativelanguage==0.6.15"
      ]
    },
    {
      "cell_type": "code",
      "execution_count": 2,
      "metadata": {
        "id": "JiBhQJka8oxG"
      },
      "outputs": [],
      "source": [
        "from langchain_community.document_loaders import PyPDFLoader\n",
        "from langchain_text_splitters import RecursiveCharacterTextSplitter\n",
        "from langchain_chroma import Chroma\n",
        "from langchain_core.prompts import ChatPromptTemplate\n",
        "from langchain_core.output_parsers import StrOutputParser\n",
        "from langchain_core.runnables import RunnableLambda\n",
        "from langchain_google_genai import GoogleGenerativeAIEmbeddings, ChatGoogleGenerativeAI\n",
        "from langchain.schema.runnable import RunnablePassthrough\n",
        "\n",
        "from google.colab import userdata\n",
        "import os\n",
        "os.environ[\"GEMINI_KEY\"] = userdata.get('GEMINI_KEY')"
      ]
    },
    {
      "cell_type": "markdown",
      "metadata": {
        "id": "4rrseI6m9EOY"
      },
      "source": [
        "# **Extract PDF text**"
      ]
    },
    {
      "cell_type": "code",
      "execution_count": 3,
      "metadata": {
        "id": "Rql3wCKd9JhA"
      },
      "outputs": [],
      "source": [
        "# Download the PDF file\n",
        "import requests\n",
        "\n",
        "pdf_url = 'https://cscb.vimaru.edu.vn/sites/cscb.vimaru.edu.vn/files/Ian%20Jacques%20-%20Mathematics%20for%20Economics%20and%20Business-Pearson%20Education%20Limited%20%282018%29_0.pdf'\n",
        "response = requests.get(pdf_url)\n",
        "\n",
        "pdf_path = 'Mathematics_for_Economics.pdf'\n",
        "with open(pdf_path, 'wb') as file:\n",
        "    file.write(response.content)"
      ]
    },
    {
      "cell_type": "code",
      "execution_count": 4,
      "metadata": {
        "id": "TJD8C5Ze9NRg"
      },
      "outputs": [],
      "source": [
        "from typing import List\n",
        "from langchain.schema import Document\n",
        "\n",
        "def pdf_extract(pdf_path: str) -> List[Document]:\n",
        "    \"\"\"\n",
        "    Extracts text from a PDF file using PyPDFLoader.\n",
        "    \"\"\"\n",
        "\n",
        "    print(\"PDF file text is extracted...\")\n",
        "    loader = PyPDFLoader(pdf_path)\n",
        "    pdf_text = loader.load()\n",
        "\n",
        "    return pdf_text"
      ]
    },
    {
      "cell_type": "code",
      "execution_count": 5,
      "metadata": {
        "colab": {
          "base_uri": "https://localhost:8080/"
        },
        "id": "5lLdrSMo9QPH",
        "outputId": "6391ea3b-2b5f-430b-e3b2-a43e9a4c2cef"
      },
      "outputs": [
        {
          "output_type": "stream",
          "name": "stdout",
          "text": [
            "PDF file text is extracted...\n"
          ]
        }
      ],
      "source": [
        "pdf_text = pdf_extract(pdf_path)"
      ]
    },
    {
      "cell_type": "code",
      "execution_count": 7,
      "metadata": {
        "colab": {
          "base_uri": "https://localhost:8080/"
        },
        "id": "i_5TZqTS9UuN",
        "outputId": "3a13dc86-71f5-41ee-8c69-7b48e31f2933"
      },
      "outputs": [
        {
          "output_type": "stream",
          "name": "stdout",
          "text": [
            "Number of documents = 756\n"
          ]
        }
      ],
      "source": [
        "print(f\"Number of documents = {len(pdf_text)}\")"
      ]
    },
    {
      "cell_type": "code",
      "execution_count": 8,
      "metadata": {
        "colab": {
          "base_uri": "https://localhost:8080/"
        },
        "id": "SBzGagaVdSAL",
        "outputId": "e85dee84-6fad-4fae-fd85-fd7ed5675359"
      },
      "outputs": [
        {
          "output_type": "stream",
          "name": "stdout",
          "text": [
            "Section 1.7  nATI onAL IncoME dETErMInATIon  99\n",
            "example\n",
            "Given that\n",
            "G = 20\n",
            "I = 35\n",
            "C = 0.9Yd + 70\n",
            "T = 0.2Y + 25\n",
            "calculate the equilibrium level of national income.\n",
            "Solution\n",
            "At first sight this problem looks rather forbidding, particularly since there are so many \n",
            "variables. However, all we have to do is to write down the relevant equations and to sub-\n",
            "stitute systematically one equation into another until only Y is left.\n",
            "We know that\n",
            "Y = C + I + G (from theory) (1)\n",
            "G = 20 (given in problem) (2)\n",
            "I = 35 (given in problem) (3)\n",
            "C = 0.9Yd + 70 (given in problem) (4)\n",
            "T = 0.2Y + 25 (given in problem) (5)\n",
            "Yd = Y − T (from theory) (6)\n",
            "This represents a system of six equations in six unknowns. The obvious thing to do is to \n",
            "put the fixed values of G and I into equation (1) to get\n",
            "Y = C + 35 + 20 = C + 55 (7)\n",
            "This has at least removed G and I, so there are only three more variables (C, Yd and T ) \n",
            "left to eliminate. We can remove T by substituting equation (5) into (6) to get\n",
            "Yd = Y − (0.2Y + 25)\n",
            "=\n"
          ]
        }
      ],
      "source": [
        "print(pdf_text[115].page_content[:1000])"
      ]
    },
    {
      "cell_type": "markdown",
      "metadata": {
        "id": "8pS1rsIM9Yv9"
      },
      "source": [
        "# **Chunk PDF text**"
      ]
    },
    {
      "cell_type": "code",
      "execution_count": 9,
      "metadata": {
        "id": "jluu4dRw9bvu"
      },
      "outputs": [],
      "source": [
        "# Splits extracted PDF text into smaller chunks\n",
        "def pdf_chunk(pdf_text: List[Document]) -> List[Document]:\n",
        "    print(\"PDF file text is chunked....\")\n",
        "    text_splitter = RecursiveCharacterTextSplitter(chunk_size=1000, chunk_overlap=100)\n",
        "    chunks = text_splitter.split_documents(pdf_text)\n",
        "    return chunks"
      ]
    },
    {
      "cell_type": "code",
      "execution_count": 10,
      "metadata": {
        "colab": {
          "base_uri": "https://localhost:8080/"
        },
        "id": "qHKPCHq-9d52",
        "outputId": "9eaa367c-b563-4b16-a844-80d9bfca7b0f"
      },
      "outputs": [
        {
          "output_type": "stream",
          "name": "stdout",
          "text": [
            "PDF file text is chunked....\n"
          ]
        }
      ],
      "source": [
        "chunks = pdf_chunk(pdf_text)"
      ]
    },
    {
      "cell_type": "code",
      "execution_count": 11,
      "metadata": {
        "colab": {
          "base_uri": "https://localhost:8080/"
        },
        "id": "oOs-SaS59fdX",
        "outputId": "31c76404-6070-45e3-e2cd-e03f14367a70"
      },
      "outputs": [
        {
          "output_type": "stream",
          "name": "stdout",
          "text": [
            "Number of chunks = 1595\n"
          ]
        }
      ],
      "source": [
        "print(f\"Number of chunks = {len(chunks)}\")"
      ]
    },
    {
      "cell_type": "code",
      "execution_count": 12,
      "metadata": {
        "colab": {
          "base_uri": "https://localhost:8080/"
        },
        "id": "2zL8oi8U9hBc",
        "outputId": "620deb4c-5354-4b3d-ecc9-934c958c9805"
      },
      "outputs": [
        {
          "output_type": "stream",
          "name": "stdout",
          "text": [
            "page_content='132  c hapter 2  NoN-lINEAr EQuATIoNS\n",
            "One useful by-product of our work on sketching graphs is that it enables us to solve quad-\n",
            "ratic inequalities with no extra effort.\n",
            "In fact, we can go even further in this case and locate the coordinates of the turning \n",
            "point – that is, the maximum point – on the curve. By symmetry, the x coordinate of this \n",
            "point occurs exactly halfway between x = 2 and x = 6: that is, at\n",
            "x = 1/2 (2 + 6) = 4\n",
            "The corresponding y coordinate is found by substituting x = 4 into the function to get\n",
            "f(4) = −(4)2 + 8(4) − 12 = 4\n",
            "The maximum point on the curve therefore has coordinates (4, 4).\n",
            "y\n",
            "x\n",
            "4\n",
            "4\n",
            "y 5 2x2 1 8x 2 12\n",
            "212\n",
            "6\n",
            "maximum point\n",
            "2\n",
            "Figure 2.4\n",
            "practice problem\n",
            "4. Use the three-step strategy to produce rough graphs of the following quadratic functions:\n",
            "(a) f(x) = 2x2 − 11x − 6  (b) f(x) = x2 − 6x + 9\n",
            "example\n",
            "Solve the following quadratic inequalities:\n",
            "(a) −x2 + 8x − 12 > 0  (b) −x2 + 8x − 12 ≤ 0' metadata={'producer': 'PyPDF', 'creator': 'HELIOS pdfcat', 'creationdate': '2018-01-12T11:50:30+05:30', 'author': 'Jacques, Ian;', 'moddate': '2018-01-16T17:41:02+05:30', 'title': 'Mathematics for Economics and Business', 'ebx_publisher': 'Pearson Education Limited', 'source': 'Mathematics_for_Economics.pdf', 'total_pages': 756, 'page': 148, 'page_label': '132'}\n"
          ]
        }
      ],
      "source": [
        "print(chunks[300])"
      ]
    },
    {
      "cell_type": "markdown",
      "metadata": {
        "id": "FVeH3mXZ9kyM"
      },
      "source": [
        "# **Create Vector Store**"
      ]
    },
    {
      "cell_type": "code",
      "execution_count": 13,
      "metadata": {
        "id": "MyaFCny89nVv"
      },
      "outputs": [],
      "source": [
        "# Set the chroma DB path\n",
        "current_dir = \"/content/rag\"\n",
        "persistent_directory = os.path.join(current_dir, \"db\", \"chroma_db\")"
      ]
    },
    {
      "cell_type": "code",
      "execution_count": 14,
      "metadata": {
        "id": "nLoRTbzy9o7w"
      },
      "outputs": [],
      "source": [
        "# Creates a Chroma vector store from chunked documents\n",
        "def create_vector_store(chunks: List[Document], db_path: str) -> Chroma:\n",
        "    print(\"Chrome vector store is created...\\n\")\n",
        "    embedding_model = GoogleGenerativeAIEmbeddings(model=\"models/embedding-001\", google_api_key= os.environ[\"GEMINI_KEY\"])\n",
        "    db = Chroma.from_documents(documents=chunks, embedding=embedding_model, persist_directory=db_path)\n",
        "    return db"
      ]
    },
    {
      "cell_type": "code",
      "execution_count": 15,
      "metadata": {
        "colab": {
          "base_uri": "https://localhost:8080/"
        },
        "id": "Kchv1UQo9qjx",
        "outputId": "a06b48f3-6c3c-4d06-d500-23746e9114ee"
      },
      "outputs": [
        {
          "output_type": "stream",
          "name": "stdout",
          "text": [
            "Chrome vector store is created...\n",
            "\n"
          ]
        }
      ],
      "source": [
        "db = create_vector_store(chunks, persistent_directory)"
      ]
    },
    {
      "cell_type": "markdown",
      "metadata": {
        "id": "ZzX5pNUu9tim"
      },
      "source": [
        "# **Retrieve relevant chunks**"
      ]
    },
    {
      "cell_type": "code",
      "execution_count": 16,
      "metadata": {
        "id": "J2L6TmtM9wEV"
      },
      "outputs": [],
      "source": [
        "# Retrieves relevant document chunks from the Chroma vector store based on a query.\n",
        "def retrieve_context(db: Chroma, query: str) -> List[Document]:\n",
        "    retriever = db.as_retriever(search_type=\"similarity\", search_kwargs={\"k\": 2})\n",
        "    print(\"Relevant chunks are retrieved...\")\n",
        "    relevant_chunks = retriever.invoke(query)\n",
        "    return relevant_chunks"
      ]
    },
    {
      "cell_type": "code",
      "execution_count": 17,
      "metadata": {
        "colab": {
          "base_uri": "https://localhost:8080/"
        },
        "id": "Ot45BqkZ9yWf",
        "outputId": "ae15c018-78b2-4d31-e0de-2dbf6ec6f5f1"
      },
      "outputs": [
        {
          "output_type": "stream",
          "name": "stdout",
          "text": [
            "Relevant chunks are retrieved...\n"
          ]
        }
      ],
      "source": [
        "query = \"An investment project requires a current cost of VND 100 million and will bring in VND 150 million after 3 years. With a prevailing interest rate of 8% per year, evaluate whether the project should be implemented or not?\"\n",
        "relevant_chunks = retrieve_context(db, query)"
      ]
    },
    {
      "cell_type": "code",
      "execution_count": 18,
      "metadata": {
        "colab": {
          "base_uri": "https://localhost:8080/"
        },
        "id": "z0imVVji9-54",
        "outputId": "7dfe6b21-2bfa-442c-e9db-8323294ef89c"
      },
      "outputs": [
        {
          "output_type": "stream",
          "name": "stdout",
          "text": [
            "Number of relevant chunks = 2\n"
          ]
        }
      ],
      "source": [
        "print(f\"Number of relevant chunks = {len(relevant_chunks)}\")"
      ]
    },
    {
      "cell_type": "code",
      "execution_count": 19,
      "metadata": {
        "colab": {
          "base_uri": "https://localhost:8080/"
        },
        "id": "h6tvLW6K-CFl",
        "outputId": "bd981de7-5f6b-4f0b-87d9-886659465415"
      },
      "outputs": [
        {
          "output_type": "stream",
          "name": "stdout",
          "text": [
            "Chunk-0\n",
            "page_content='SEctiOn 3.4  InveSTMenT APPrAISAl  243\n",
            "Example\n",
            "A project requiring an initial outlay of $15 000 is guaranteed to produce a return of  \n",
            "$20 000 in three years’ time. Use the\n",
            "(a) net present value\n",
            "(b) internal rate of return\n",
            "methods to decide whether this investment is worthwhile if the prevailing market rate is \n",
            "5% compounded annually. Would your decision be affected if the interest rate were 12%?\n",
            "Solution\n",
            "(a) The present value of $20   000 in three years’ time, based on a discount rate of 5%, is \n",
            "found by setting S = 20  000, t = 3 and r = 5 in the formula\n",
            "P 5 S r\n",
            "2t\n",
            "1 1 100\n",
            "This gives\n",
            "P = $20 000(1.05)−3 = $17 276.75\n",
            "The NPV is therefore\n",
            "$17 276.75 − $15 000 = $2276.75\n",
            "The project is to be recommended because this value is positive.\n",
            "(b) To calculate the IRR we use the formula\n",
            "S 5 P r\n",
            "t\n",
            "1 1 100\n",
            "We are given S = 20  000, P = 15  000 and t = 3, so we need to solve\n",
            "20 000 5 15 000 1 1 100\n",
            "3\n",
            "r\n",
            "for r. An obvious first step is to divide both sides of this equation by 15 000 to get\n",
            "4\n",
            "3 1 1100' metadata={'author': 'Jacques, Ian;', 'creationdate': '2018-01-12T11:50:30+05:30', 'title': 'Mathematics for Economics and Business', 'page_label': '243', 'moddate': '2018-01-16T17:41:02+05:30', 'total_pages': 756, 'producer': 'PyPDF', 'page': 259, 'ebx_publisher': 'Pearson Education Limited', 'source': 'Mathematics_for_Economics.pdf', 'creator': 'HELIOS pdfcat'}\n",
            "\n",
            "\n",
            "Chunk-1\n",
            "page_content='SEctiOn 3.4  InveSTMenT APPrAISAl  245\n",
            "Example\n",
            "Suppose that it is possible to invest in only one of two different projects. Project A requires \n",
            "an initial outlay of $1000 and yields $1200 in four years’ time. Project B requires an outlay \n",
            "of $30\n",
            "  000 and yields $35  000 after four years. Which of these projects would you choose \n",
            "to invest in when the market rate is 3% compounded annually?\n",
            "Solution\n",
            "Let us first solve this problem using net present values.\n",
            "For Project A\n",
            "NPV = $1200(1.03)−4 − $1000 = $66.18\n",
            "For Project B\n",
            "NPV = $35 000(1.03)−4 − $30 000 = $1097.05\n",
            "Both projects are viable as they produce positive net present values. Moreover, the second \n",
            "project is preferred, since it has the higher value. You can see that this recommendation is \n",
            "correct by considering how you might invest $30\n",
            "  000. If you opt for Project A, then the \n",
            "best you can do is to invest $1000 of this amount to give a return of $1200 in four years’ \n",
            "time. The remaining $29' metadata={'moddate': '2018-01-16T17:41:02+05:30', 'page_label': '245', 'total_pages': 756, 'author': 'Jacques, Ian;', 'producer': 'PyPDF', 'ebx_publisher': 'Pearson Education Limited', 'title': 'Mathematics for Economics and Business', 'creator': 'HELIOS pdfcat', 'source': 'Mathematics_for_Economics.pdf', 'page': 261, 'creationdate': '2018-01-12T11:50:30+05:30'}\n",
            "\n",
            "\n"
          ]
        }
      ],
      "source": [
        "for i, chunk in enumerate(relevant_chunks):\n",
        "  print(f\"Chunk-{i}\")\n",
        "  print(chunk)\n",
        "  print(\"\\n\")"
      ]
    },
    {
      "cell_type": "markdown",
      "metadata": {
        "id": "_GT1esGn-GVX"
      },
      "source": [
        "# **Build context**"
      ]
    },
    {
      "cell_type": "code",
      "execution_count": 20,
      "metadata": {
        "id": "jEC7debD-EbA"
      },
      "outputs": [],
      "source": [
        "# Builds a context string from retrieved relevant document chunks.\n",
        "def build_context(relevant_chunks: List[Document]) -> str:\n",
        "    print(\"Context is built from relevant chunks\")\n",
        "    context = \"\\n\\n\".join([chunk.page_content for chunk in relevant_chunks])\n",
        "    return context"
      ]
    },
    {
      "cell_type": "code",
      "execution_count": 21,
      "metadata": {
        "colab": {
          "base_uri": "https://localhost:8080/"
        },
        "id": "aO-8qkwa-QWB",
        "outputId": "6256ecbe-8870-4927-c2fc-8496b279fcb3"
      },
      "outputs": [
        {
          "output_type": "stream",
          "name": "stdout",
          "text": [
            "Context is built from relevant chunks\n"
          ]
        }
      ],
      "source": [
        "context = build_context(relevant_chunks)"
      ]
    },
    {
      "cell_type": "code",
      "execution_count": 22,
      "metadata": {
        "colab": {
          "base_uri": "https://localhost:8080/"
        },
        "id": "keMW-5zr-R16",
        "outputId": "a80e1edf-08d2-48c6-94b8-09224fe71332"
      },
      "outputs": [
        {
          "output_type": "stream",
          "name": "stdout",
          "text": [
            "SEctiOn 3.4  InveSTMenT APPrAISAl  243\n",
            "Example\n",
            "A project requiring an initial outlay of $15 000 is guaranteed to produce a return of  \n",
            "$20 000 in three years’ time. Use the\n",
            "(a) net present value\n",
            "(b) internal rate of return\n",
            "methods to decide whether this investment is worthwhile if the prevailing market rate is \n",
            "5% compounded annually. Would your decision be affected if the interest rate were 12%?\n",
            "Solution\n",
            "(a) The present value of $20   000 in three years’ time, based on a discount rate of 5%, is \n",
            "found by setting S = 20  000, t = 3 and r = 5 in the formula\n",
            "P 5 S r\n",
            "2t\n",
            "1 1 100\n",
            "This gives\n",
            "P = $20 000(1.05)−3 = $17 276.75\n",
            "The NPV is therefore\n",
            "$17 276.75 − $15 000 = $2276.75\n",
            "The project is to be recommended because this value is positive.\n",
            "(b) To calculate the IRR we use the formula\n",
            "S 5 P r\n",
            "t\n",
            "1 1 100\n",
            "We are given S = 20  000, P = 15  000 and t = 3, so we need to solve\n",
            "20 000 5 15 000 1 1 100\n",
            "3\n",
            "r\n",
            "for r. An obvious first step is to divide both sides of this equation by 15 000 to get\n",
            "4\n",
            "3 1 1100\n",
            "\n",
            "SEctiOn 3.4  InveSTMenT APPrAISAl  245\n",
            "Example\n",
            "Suppose that it is possible to invest in only one of two different projects. Project A requires \n",
            "an initial outlay of $1000 and yields $1200 in four years’ time. Project B requires an outlay \n",
            "of $30\n",
            "  000 and yields $35  000 after four years. Which of these projects would you choose \n",
            "to invest in when the market rate is 3% compounded annually?\n",
            "Solution\n",
            "Let us first solve this problem using net present values.\n",
            "For Project A\n",
            "NPV = $1200(1.03)−4 − $1000 = $66.18\n",
            "For Project B\n",
            "NPV = $35 000(1.03)−4 − $30 000 = $1097.05\n",
            "Both projects are viable as they produce positive net present values. Moreover, the second \n",
            "project is preferred, since it has the higher value. You can see that this recommendation is \n",
            "correct by considering how you might invest $30\n",
            "  000. If you opt for Project A, then the \n",
            "best you can do is to invest $1000 of this amount to give a return of $1200 in four years’ \n",
            "time. The remaining $29\n"
          ]
        }
      ],
      "source": [
        "print(context)"
      ]
    },
    {
      "cell_type": "markdown",
      "metadata": {
        "id": "DL-PoP7_-UEV"
      },
      "source": [
        "# **Combine all the steps into one function**"
      ]
    },
    {
      "cell_type": "code",
      "execution_count": 23,
      "metadata": {
        "id": "V3NQhSVP-VV8"
      },
      "outputs": [],
      "source": [
        "from typing import Dict\n",
        "\n",
        "# Creates or loads a vector store for a given file and extracts relevant chunks based on a query.\n",
        "def get_context(inputs: Dict[str, str]) -> Dict[str, str]:\n",
        "\n",
        "    pdf_path, query, db_path  = inputs['pdf_path'], inputs['query'], inputs['db_path']\n",
        "\n",
        "    # Create new vector store if it does not exist\n",
        "    if not os.path.exists(db_path):\n",
        "        print(\"Creating a new vector store...\")\n",
        "        pdf_text = pdf_extract(pdf_path)\n",
        "        chunks = pdf_chunk(pdf_text)\n",
        "        db = create_vector_store(chunks, db_path)\n",
        "\n",
        "    # Load the existing vector store\n",
        "    else:\n",
        "        print(\"Loading the existing vector store\")\n",
        "        embedding_model = GoogleGenerativeAIEmbeddings(model=\"models/embedding-001\", google_api_key= os.environ[\"GEMINI_KEY\"])\n",
        "        db = Chroma(persist_directory=db_path, embedding_function=embedding_model)\n",
        "\n",
        "    relevant_chunks = retrieve_context(db, query)\n",
        "    context = build_context(relevant_chunks)\n",
        "\n",
        "    return {'context': context, 'query': query}"
      ]
    },
    {
      "cell_type": "code",
      "execution_count": 24,
      "metadata": {
        "colab": {
          "base_uri": "https://localhost:8080/"
        },
        "id": "-DGbYNBcY0lV",
        "outputId": "af7398af-ba6a-446d-f205-ab3eb11de05f"
      },
      "outputs": [
        {
          "output_type": "stream",
          "name": "stdout",
          "text": [
            "Loading the existing vector store\n",
            "Relevant chunks are retrieved...\n",
            "Context is built from relevant chunks\n"
          ]
        },
        {
          "output_type": "execute_result",
          "data": {
            "text/plain": [
              "{'context': 'SEctiOn 3.4  InveSTMenT APPrAISAl  243\\nExample\\nA project requiring an initial outlay of $15 000 is guaranteed to produce a return of  \\n$20 000 in three years’ time. Use the\\n(a) net present value\\n(b) internal rate of return\\nmethods to decide whether this investment is worthwhile if the prevailing market rate is \\n5% compounded annually. Would your decision be affected if the interest rate were 12%?\\nSolution\\n(a) The present value of $20   000 in three years’ time, based on a discount rate of 5%, is \\nfound by setting S = 20  000, t = 3 and r = 5 in the formula\\nP 5 S r\\n2t\\n1 1 100\\nThis gives\\nP = $20 000(1.05)−3 = $17 276.75\\nThe NPV is therefore\\n$17 276.75 − $15 000 = $2276.75\\nThe project is to be recommended because this value is positive.\\n(b) To calculate the IRR we use the formula\\nS 5 P r\\nt\\n1 1 100\\nWe are given S = 20  000, P = 15  000 and t = 3, so we need to solve\\n20 000 5 15 000 1 1 100\\n3\\nr\\nfor r. An obvious first step is to divide both sides of this equation by 15 000 to get\\n4\\n3 1 1100\\n\\nSEctiOn 3.4  InveSTMenT APPrAISAl  245\\nExample\\nSuppose that it is possible to invest in only one of two different projects. Project A requires \\nan initial outlay of $1000 and yields $1200 in four years’ time. Project B requires an outlay \\nof $30\\n  000 and yields $35  000 after four years. Which of these projects would you choose \\nto invest in when the market rate is 3% compounded annually?\\nSolution\\nLet us first solve this problem using net present values.\\nFor Project A\\nNPV = $1200(1.03)−4 − $1000 = $66.18\\nFor Project B\\nNPV = $35 000(1.03)−4 − $30 000 = $1097.05\\nBoth projects are viable as they produce positive net present values. Moreover, the second \\nproject is preferred, since it has the higher value. You can see that this recommendation is \\ncorrect by considering how you might invest $30\\n  000. If you opt for Project A, then the \\nbest you can do is to invest $1000 of this amount to give a return of $1200 in four years’ \\ntime. The remaining $29',\n",
              " 'query': 'An investment project requires a current cost of VND 100 million and will bring in VND 150 million after 3 years. With a prevailing interest rate of 8% per year, evaluate whether the project should be implemented or not?'}"
            ]
          },
          "metadata": {},
          "execution_count": 24
        }
      ],
      "source": [
        "get_context({'pdf_path': pdf_path, 'query': query, 'db_path': persistent_directory})"
      ]
    },
    {
      "cell_type": "markdown",
      "metadata": {
        "id": "66Gazslb-aRf"
      },
      "source": [
        "# **Build RAG chain**"
      ]
    },
    {
      "cell_type": "code",
      "execution_count": 25,
      "metadata": {
        "id": "mniHJlW1-ZOS"
      },
      "outputs": [],
      "source": [
        "from langchain_google_genai import ChatGoogleGenerativeAI\n",
        "from langchain_core.prompts import ChatPromptTemplate\n",
        "from langchain_core.runnables import RunnableLambda\n",
        "\n",
        "\n",
        "template = \"\"\"Vai trò của bạn: Bạn là một trợ giảng AI chuyên về toán cao cấp, được đào tạo bởi một giáo sư với 50 năm kinh nghiệm. Bạn có quyền truy cập vào một bộ kiến thức toán học được cấu trúc như sau:\n",
        "\n",
        "Kiến thức chuyên môn:\n",
        "- Câu hỏi : {query} [Đây là câu hỏi của người học]\n",
        "- Dữ liệu liên quan : {context} [Đây là nội dung kiến thức liên quan từ giáo trình]\n",
        "\n",
        "Nhiệm vụ của bạn:\n",
        "1. Phân tích câu hỏi của người học và đối chiếu với dữ liệu được cung cấp\n",
        "2. Chỉ trả lời khi câu hỏi có liên quan trực tiếp đến nội dung trong dữ liệu được cung cấp\n",
        "3. Nếu không tìm thấy thông tin liên quan trong dữ liệu được cung cấp, hãy trả lời: \"Tôi không có đủ thông tin trong cơ sở dữ liệu để trả lời câu hỏi này một cách chính xác. Vui lòng tham khảo từ giáo viên hoặc tài liệu khác.\"\n",
        "\n",
        "Khi trả lời:\n",
        "1. Luôn bắt đầu bằng việc xác nhận mối liên hệ giữa câu hỏi và kiến thức trong dữ liệu được cung cấp\n",
        "2. Giải thích các khái niệm theo cách dễ hiểu nhưng vẫn đảm bảo tính học thuật\n",
        "3. Sử dụng các ví dụ minh họa khi cần thiết\n",
        "4. Khuyến khích tư duy phản biện và hiểu sâu\n",
        "5. Kết thúc với một câu hỏi gợi mở để kiểm tra hiểu biết của người học\n",
        "\n",
        "Giọng điệu:\n",
        "- Chuyên nghiệp nhưng thân thiện\n",
        "- Khoa học và chính xác\n",
        "- Kiên nhẫn và khuyến khích\n",
        "- Không có thái độ cao ngạo\n",
        "\n",
        "Định dạng câu trả lời:\n",
        "1. Phần mở đầu: Xác nhận hiểu câu hỏi\n",
        "2. Phần nội dung: Giải thích có cấu trúc, sử dụng đánh số hoặc gạch đầu dòng\n",
        "3. Phần kết: Tóm tắt và câu hỏi gợi mở\n",
        "N\n",
        "Giới hạn:\n",
        "- Chỉ sử dụng thông tin từ dữ liệu được cung cấp\n",
        "- Không suy diễn hoặc thêm thông tin ngoài phạm vi\n",
        "- Không đưa ra ý kiến cá nhân về tính đúng sai của dữ liệu được cung cấp\n",
        "\n",
        "Yêu cầu về độ chính xác:\n",
        "- Mọi công thức toán học phải được trình bày chính xác\n",
        "- Sử dụng ký hiệu toán học chuẩn\n",
        "- Đảm bảo tính nhất quán trong cách giải thích\n",
        "\n",
        "Nếu bạn hiểu nhiệm vụ của mình, hãy trả lời câu hỏi của người học dựa trên hướng dẫn trên.\n",
        "  \"\"\"\n",
        "\n",
        "rag_prompt = ChatPromptTemplate.from_template(template)\n",
        "\n",
        "llm = ChatGoogleGenerativeAI(model=\"gemini-1.5-flash-latest\", temperature=0.7, top_p=0.85, google_api_key= os.environ[\"GEMINI_KEY\"])\n",
        "\n",
        "rag_chain = (\n",
        "    RunnableLambda(get_context)\n",
        "    | rag_prompt\n",
        "    | llm\n",
        "    | StrOutputParser()\n",
        ")\n"
      ]
    },
    {
      "cell_type": "code",
      "execution_count": 26,
      "metadata": {
        "colab": {
          "base_uri": "https://localhost:8080/"
        },
        "id": "jXR5kig4UTed",
        "outputId": "057467d0-f93b-435c-9810-64f447948d6f"
      },
      "outputs": [
        {
          "output_type": "stream",
          "name": "stdout",
          "text": [
            "Loading the existing vector store\n",
            "Relevant chunks are retrieved...\n",
            "Context is built from relevant chunks\n",
            "Chào bạn! Tôi thấy câu hỏi của bạn liên quan đến việc đánh giá tính khả thi của một dự án đầu tư bằng phương pháp tính toán giá trị hiện tại thuần (NPV).  Dữ liệu cung cấp có chứa các ví dụ về tính toán NPV và nội dung liên quan đến đánh giá dự án đầu tư, do đó tôi có thể giúp bạn giải quyết vấn đề này.\n",
            "\n",
            "**Phần nội dung:**\n",
            "\n",
            "Để đánh giá xem dự án có nên thực hiện hay không, chúng ta sẽ sử dụng phương pháp tính Giá trị Hiện Tại Thuần (Net Present Value - NPV).  Phương pháp này so sánh giá trị hiện tại của dòng tiền thu được từ dự án với chi phí ban đầu.  Nếu NPV dương, dự án đáng để đầu tư; nếu NPV âm, dự án không đáng để đầu tư.\n",
            "\n",
            "1. **Xác định các thông số:**\n",
            "\n",
            "* Chi phí ban đầu (P): 100 triệu VND\n",
            "* Dòng tiền thu được sau 3 năm (S): 150 triệu VND\n",
            "* Lãi suất thị trường (r): 8% = 0.08 năm\n",
            "\n",
            "2. **Tính giá trị hiện tại của dòng tiền thu được:**\n",
            "\n",
            "Công thức tính giá trị hiện tại (Present Value - PV) là:\n",
            "\n",
            "PV = S / (1 + r)^t\n",
            "\n",
            "Trong đó:\n",
            "\n",
            "* S: Giá trị tương lai (150 triệu VND)\n",
            "* r: Lãi suất (0.08)\n",
            "* t: Thời gian (3 năm)\n",
            "\n",
            "Vậy giá trị hiện tại của 150 triệu VND sau 3 năm với lãi suất 8% là:\n",
            "\n",
            "PV = 150,000,000 / (1 + 0.08)^3 ≈ 119,075,629 VND\n",
            "\n",
            "3. **Tính Giá trị Hiện Tại Thuần (NPV):**\n",
            "\n",
            "NPV = PV - P\n",
            "\n",
            "NPV = 119,075,629 - 100,000,000 = 19,075,629 VND\n",
            "\n",
            "4. **Kết luận:**\n",
            "\n",
            "Vì NPV = 19,075,629 VND > 0, dự án có giá trị hiện tại thuần dương.  Điều này cho thấy rằng dự án mang lại lợi nhuận sau khi đã tính đến chi phí cơ hội của vốn (lãi suất thị trường). Do đó, dự án nên được thực hiện.\n",
            "\n",
            "\n",
            "**Phần kết:**\n",
            "\n",
            "Tóm lại, bằng cách sử dụng phương pháp NPV, chúng ta đã xác định được rằng dự án đầu tư này là khả thi.  NPV dương cho thấy dự án tạo ra lợi nhuận vượt quá chi phí đầu tư, tính đến yếu tố thời gian và lãi suất thị trường.\n",
            "\n",
            "Bạn có thể tự mình thử áp dụng phương pháp NPV cho các dự án đầu tư khác với các thông số khác nhau để củng cố hiểu biết của mình không?  Hãy thử thay đổi lãi suất hoặc thời gian để xem kết quả NPV thay đổi như thế nào và điều đó ảnh hưởng đến quyết định đầu tư ra sao.\n"
          ]
        }
      ],
      "source": [
        "print(rag_chain.invoke({'pdf_path': pdf_path, 'query': query, 'db_path': persistent_directory}))"
      ]
    },
    {
      "cell_type": "markdown",
      "metadata": {
        "id": "en1xvgof-g5D"
      },
      "source": [
        "# **Run RAG chain**"
      ]
    },
    {
      "cell_type": "code",
      "execution_count": 27,
      "metadata": {
        "id": "TcjNFsdQ-ihP"
      },
      "outputs": [],
      "source": [
        "# Set the chroma DB path\n",
        "current_dir = \"/content/rag\"\n",
        "persistent_directory = os.path.join(current_dir, \"db\", \"chroma_db\")"
      ]
    },
    {
      "cell_type": "code",
      "execution_count": 28,
      "metadata": {
        "id": "D-jlMZ_F-lM8"
      },
      "outputs": [],
      "source": [
        "# Download the PDF file\n",
        "import requests\n",
        "\n",
        "pdf_url = 'https://cscb.vimaru.edu.vn/sites/cscb.vimaru.edu.vn/files/Ian%20Jacques%20-%20Mathematics%20for%20Economics%20and%20Business-Pearson%20Education%20Limited%20%282018%29_0.pdf'\n",
        "response = requests.get(pdf_url)\n",
        "\n",
        "pdf_path = 'Mathematics_for_Economics.pdf'\n",
        "with open(pdf_path, 'wb') as file:\n",
        "    file.write(response.content)"
      ]
    },
    {
      "cell_type": "code",
      "execution_count": 29,
      "metadata": {
        "id": "7cGBtFw5-nfY"
      },
      "outputs": [],
      "source": [
        "# Write the query\n",
        "query = \"Hướng dẫn giải bài tập: Một dự án đầu tư đòi hỏi chi phí hiện tại 100 triệu đồng và sẽ đem lại 150 triệu đồng sau 3 năm. Với lãi suất thịnh hành 8% một năm, đánh giá xem có nên thực hiện dự án không?\""
      ]
    },
    {
      "cell_type": "code",
      "execution_count": 30,
      "metadata": {
        "colab": {
          "base_uri": "https://localhost:8080/"
        },
        "id": "FTkHCDEs-pkB",
        "outputId": "21a880da-79e7-41f3-aa91-1697a60cbfd0"
      },
      "outputs": [
        {
          "output_type": "stream",
          "name": "stdout",
          "text": [
            "Loading the existing vector store\n",
            "Relevant chunks are retrieved...\n",
            "Context is built from relevant chunks\n"
          ]
        }
      ],
      "source": [
        "answer = rag_chain.invoke({'pdf_path':pdf_path, 'query':query, 'db_path':persistent_directory})"
      ]
    },
    {
      "cell_type": "code",
      "execution_count": 31,
      "metadata": {
        "id": "ygDmraF4-r68",
        "colab": {
          "base_uri": "https://localhost:8080/"
        },
        "outputId": "2229cb00-2d48-49eb-cd4a-1cfed067ae29"
      },
      "outputs": [
        {
          "output_type": "stream",
          "name": "stdout",
          "text": [
            "Query:Hướng dẫn giải bài tập: Một dự án đầu tư đòi hỏi chi phí hiện tại 100 triệu đồng và sẽ đem lại 150 triệu đồng sau 3 năm. Với lãi suất thịnh hành 8% một năm, đánh giá xem có nên thực hiện dự án không?\n",
            "\n",
            "Generated answer:Chào bạn! Tôi hiểu câu hỏi của bạn là muốn đánh giá tính khả thi của một dự án đầu tư dựa trên giá trị hiện tại và giá trị tương lai, sử dụng lãi suất thị trường làm cơ sở.  Tuy nhiên, dữ liệu cung cấp tập trung vào các ví dụ về tính toán lãi kép và không trực tiếp cung cấp công thức hay phương pháp để đánh giá dự án đầu tư dựa trên giá trị hiện tại (NPV - Net Present Value) hay giá trị tương lai (FV - Future Value).  Do đó, tôi không thể sử dụng trực tiếp thông tin trong tài liệu đã cho để giải quyết bài toán này.  Tôi không có đủ thông tin trong cơ sở dữ liệu để trả lời câu hỏi này một cách chính xác. Vui lòng tham khảo từ giáo viên hoặc tài liệu khác.\n"
          ]
        }
      ],
      "source": [
        "print(f\"Query:{query}\\n\")\n",
        "print(f\"Generated answer:{answer}\")"
      ]
    },
    {
      "cell_type": "markdown",
      "metadata": {
        "id": "je0OudexWerY"
      },
      "source": [
        "# **Run with Streamlit**"
      ]
    },
    {
      "cell_type": "code",
      "execution_count": 32,
      "metadata": {
        "colab": {
          "base_uri": "https://localhost:8080/"
        },
        "id": "9WKZFc49Wd10",
        "outputId": "84de1b83-10f9-4551-c52b-e5e2e33bb406"
      },
      "outputs": [
        {
          "output_type": "stream",
          "name": "stdout",
          "text": [
            "\u001b[2K     \u001b[90m━━━━━━━━━━━━━━━━━━━━━━━━━━━━━━━━━━━━━━━━\u001b[0m \u001b[32m44.3/44.3 kB\u001b[0m \u001b[31m1.8 MB/s\u001b[0m eta \u001b[36m0:00:00\u001b[0m\n",
            "\u001b[2K   \u001b[90m━━━━━━━━━━━━━━━━━━━━━━━━━━━━━━━━━━━━━━━━\u001b[0m \u001b[32m10.1/10.1 MB\u001b[0m \u001b[31m68.0 MB/s\u001b[0m eta \u001b[36m0:00:00\u001b[0m\n",
            "\u001b[2K   \u001b[90m━━━━━━━━━━━━━━━━━━━━━━━━━━━━━━━━━━━━━━━━\u001b[0m \u001b[32m6.9/6.9 MB\u001b[0m \u001b[31m98.1 MB/s\u001b[0m eta \u001b[36m0:00:00\u001b[0m\n",
            "\u001b[2K   \u001b[90m━━━━━━━━━━━━━━━━━━━━━━━━━━━━━━━━━━━━━━━━\u001b[0m \u001b[32m79.1/79.1 kB\u001b[0m \u001b[31m6.0 MB/s\u001b[0m eta \u001b[36m0:00:00\u001b[0m\n",
            "\u001b[?25h"
          ]
        }
      ],
      "source": [
        "!pip install -q streamlit"
      ]
    },
    {
      "cell_type": "code",
      "execution_count": 33,
      "metadata": {
        "colab": {
          "base_uri": "https://localhost:8080/"
        },
        "id": "054e1068",
        "outputId": "b62865e4-67e6-4ad0-e26f-917fd0cd439e"
      },
      "outputs": [
        {
          "output_type": "stream",
          "name": "stdout",
          "text": [
            "Writing app.py\n"
          ]
        }
      ],
      "source": [
        "%%writefile app.py\n",
        "import streamlit as st\n",
        "import os\n",
        "from langchain_google_genai import ChatGoogleGenerativeAI, GoogleGenerativeAIEmbeddings\n",
        "from langchain_core.prompts import ChatPromptTemplate\n",
        "from langchain_core.runnables import RunnableLambda\n",
        "from langchain_core.output_parsers import StrOutputParser\n",
        "from langchain_chroma import Chroma\n",
        "from langchain_community.document_loaders import PyPDFLoader\n",
        "from langchain_text_splitters import RecursiveCharacterTextSplitter\n",
        "from typing import List, Dict\n",
        "from langchain.schema import Document\n",
        "from google.colab import userdata\n",
        "import requests\n",
        "\n",
        "# Define the get_context function (copied from previous cells)\n",
        "def pdf_extract(pdf_path: str) -> List[Document]:\n",
        "    \"\"\"\n",
        "    Extracts text from a PDF file using PyPDFLoader.\n",
        "    \"\"\"\n",
        "    print(\"PDF file text is extracted...\")\n",
        "    loader = PyPDFLoader(pdf_path)\n",
        "    pdf_text = loader.load()\n",
        "    return pdf_text\n",
        "\n",
        "def pdf_chunk(pdf_text: List[Document]) -> List[Document]:\n",
        "    print(\"PDF file text is chunked....\")\n",
        "    text_splitter = RecursiveCharacterTextSplitter(chunk_size=1000, chunk_overlap=100)\n",
        "    chunks = text_splitter.split_documents(pdf_text)\n",
        "    return chunks\n",
        "\n",
        "def create_vector_store(chunks: List[Document], db_path: str) -> Chroma:\n",
        "    print(\"Chrome vector store is created...\\n\")\n",
        "    embedding_model = GoogleGenerativeAIEmbeddings(model=\"models/embedding-001\", google_api_key= os.environ[\"GEMINI_KEY\"])\n",
        "    db = Chroma.from_documents(documents=chunks, embedding=embedding_model, persist_directory=db_path)\n",
        "    return db\n",
        "\n",
        "def retrieve_context(db: Chroma, query: str) -> List[Document]:\n",
        "    retriever = db.as_retriever(search_type=\"similarity\", search_kwargs={\"k\": 2})\n",
        "    print(\"Relevant chunks are retrieved...\")\n",
        "    relevant_chunks = retriever.invoke(query)\n",
        "    return relevant_chunks\n",
        "\n",
        "def build_context(relevant_chunks: List[Document]) -> str:\n",
        "    print(\"Context is built from relevant chunks\")\n",
        "    context = \"\\n\\n\".join([chunk.page_content for chunk in relevant_chunks])\n",
        "    return context\n",
        "\n",
        "def get_context(inputs: Dict[str, str]) -> Dict[str, str]:\n",
        "    pdf_path, query, db_path  = inputs['pdf_path'], inputs['query'], inputs['db_path']\n",
        "\n",
        "    # Create new vector store if it does not exist\n",
        "    if not os.path.exists(db_path):\n",
        "        print(\"Creating a new vector store...\")\n",
        "        pdf_text = pdf_extract(pdf_path)\n",
        "        chunks = pdf_chunk(pdf_text)\n",
        "        db = create_vector_store(chunks, db_path)\n",
        "    # Load the existing vector store\n",
        "    else:\n",
        "        print(\"Loading the existing vector store\")\n",
        "        embedding_model = GoogleGenerativeAIEmbeddings(model=\"models/embedding-001\", google_api_key= os.environ[\"GEMINI_KEY\"])\n",
        "        db = Chroma(persist_directory=db_path, embedding_function=embedding_model)\n",
        "\n",
        "    relevant_chunks = retrieve_context(db, query)\n",
        "    context = build_context(relevant_chunks)\n",
        "\n",
        "    return {'context': context, 'query': query}\n",
        "\n",
        "# Define the RAG chain (copied from previous cells)\n",
        "template1 = \"\"\"Vai trò của bạn: Bạn là một trợ giảng AI chuyên về toán cao cấp, được đào tạo bởi một giáo sư với 50 năm kinh nghiệm. Bạn có quyền truy cập vào một bộ kiến thức toán học được cấu trúc như sau:\n",
        "\n",
        "Kiến thức chuyên môn:\n",
        "- Câu hỏi : {query} [Đây là câu hỏi của người học]\n",
        "- Dữ liệu liên quan : {context} [Đây là nội dung kiến thức liên quan từ giáo trình]\n",
        "\n",
        "Nhiệm vụ của bạn:\n",
        "1. Phân tích câu hỏi của người học và đối chiếu với dữ liệu được cung cấp\n",
        "2. Chỉ trả lời khi câu hỏi có liên quan trực tiếp đến nội dung trong dữ liệu được cung cấp\n",
        "3. Nếu không tìm thấy thông tin liên quan trong dữ liệu được cung cấp, hãy trả lời: \"Tôi không có đủ thông tin trong cơ sở dữ liệu để trả lời câu hỏi này một cách chính xác. Vui lòng tham khảo từ giáo viên hoặc tài liệu khác.\"\n",
        "\n",
        "Khi trả lời:\n",
        "1. Luôn bắt đầu bằng việc xác nhận mối liên hệ giữa câu hỏi và kiến thức trong dữ liệu được cung cấp\n",
        "2. Giải thích các khái niệm theo cách dễ hiểu nhưng vẫn đảm bảo tính học thuật\n",
        "3. Sử dụng các ví dụ minh họa khi cần thiết\n",
        "4. Khuyến khích tư duy phản biện và hiểu sâu\n",
        "5. Kết thúc với một câu hỏi gợi mở để kiểm tra hiểu biết của người học\n",
        "\n",
        "Giọng điệu:\n",
        "- Chuyên nghiệp nhưng thân thiện\n",
        "- Khoa học và chính xác\n",
        "- Kiên nhẫn và khuyến khích\n",
        "- Không có thái độ cao ngạo\n",
        "\n",
        "Định dạng câu trả lời:\n",
        "1. Phần mở đầu: Xác nhận hiểu câu hỏi\n",
        "2. Phần nội dung: Giải thích có cấu trúc, sử dụng đánh số hoặc gạch đầu dòng\n",
        "3. Phần kết: Tóm tắt và câu hỏi gợi mở\n",
        "\n",
        "Giới hạn:\n",
        "- Chỉ sử dụng thông tin từ dữ liệu được cung cấp\n",
        "- Không suy diễn hoặc thêm thông tin ngoài phạm vi\n",
        "- Không đưa ra ý kiến cá nhân về tính đúng sai của dữ liệu được cung cấp\n",
        "\n",
        "Yêu cầu về độ chính xác:\n",
        "- Mọi công thức toán học phải được trình bày chính xác\n",
        "- Sử dụng ký hiệu toán học chuẩn, chính xác\n",
        "- Đảm bảo tính nhất quán trong cách giải thích\n",
        "\n",
        "Nếu bạn hiểu nhiệm vụ của mình, hãy trả lời câu hỏi của người học dựa trên hướng dẫn trên.\n",
        "  \"\"\"\n",
        "\n",
        "template2 = \"\"\"Vai trò của bạn: Bạn là một trợ giảng AI chuyên về toán cao cấp, được đào tạo bởi một giáo sư với 50 năm kinh nghiệm. Bạn có quyền truy cập vào một bộ kiến thức toán học được cấu trúc như sau:\n",
        "\n",
        "Câu hỏi : {query} [Đây là câu hỏi của người học]\n",
        "\n",
        "Nhiệm vụ của bạn:\n",
        "1. Phân tích câu hỏi của người học và đối chiếu với dữ liệu được cung cấp\n",
        "2. Chỉ trả lời khi câu hỏi có liên quan trực tiếp đến nội dung trong dữ liệu được cung cấp\n",
        "\n",
        "Khi trả lời:\n",
        "1. Luôn bắt đầu bằng việc xác nhận mối liên hệ giữa câu hỏi và kiến thức trong dữ liệu được cung cấp\n",
        "2. Giải thích các khái niệm theo cách dễ hiểu nhưng vẫn đảm bảo tính học thuật\n",
        "3. Sử dụng các ví dụ minh họa khi cần thiết\n",
        "4. Khuyến khích tư duy phản biện và hiểu sâu\n",
        "5. Kết thúc với một câu hỏi gợi mở để kiểm tra hiểu biết của người học\n",
        "\n",
        "Giọng điệu:\n",
        "- Chuyên nghiệp nhưng thân thiện\n",
        "- Khoa học và chính xác\n",
        "- Kiên nhẫn và khuyến khích\n",
        "- Không có thái độ cao ngạo\n",
        "\n",
        "Định dạng câu trả lời:\n",
        "1. Phần mở đầu: Xác nhận hiểu câu hỏi\n",
        "2. Phần nội dung: Giải thích có cấu trúc, sử dụng đánh số hoặc gạch đầu dòng\n",
        "3. Phần kết: Tóm tắt và câu hỏi gợi mở\n",
        "\n",
        "Giới hạn:\n",
        "- Không suy diễn hoặc thêm thông tin ngoài phạm vi\n",
        "\n",
        "Yêu cầu về độ chính xác:\n",
        "- Mọi công thức toán học phải được trình bày chính xác\n",
        "- Sử dụng ký hiệu toán học chuẩn, chính xác\n",
        "- Đảm bảo tính nhất quán trong cách giải thích\n",
        "\n",
        "Nếu bạn hiểu nhiệm vụ của mình, hãy trả lời câu hỏi của người học dựa trên hướng dẫn trên.\n",
        "  \"\"\"\n",
        "\n",
        "rag_prompt = ChatPromptTemplate.from_template(template1)\n",
        "llm_prompt = ChatPromptTemplate.from_template(template2)\n",
        "\n",
        "llm = ChatGoogleGenerativeAI(model=\"gemini-1.5-flash-latest\", temperature=0.7, top_p=0.85, google_api_key= os.environ[\"GEMINI_KEY\"])\n",
        "\n",
        "rag_chain = (\n",
        "    RunnableLambda(get_context)\n",
        "    | rag_prompt\n",
        "    | llm\n",
        "    | StrOutputParser()\n",
        ")\n",
        "\n",
        "llm_chain = (\n",
        "     llm_prompt\n",
        "    | llm\n",
        "    | StrOutputParser()\n",
        ")\n",
        "\n",
        "# Set the chroma DB path and PDF path\n",
        "current_dir = \"/content/rag\"\n",
        "persistent_directory = os.path.join(current_dir, \"db\", \"chroma_db\")\n",
        "pdf_url = 'https://cscb.vimaru.edu.vn/sites/cscb.vimaru.edu.vn/files/Ian%20Jacques%20-%20Mathematics%20for%20Economics%20and%20Business-Pearson%20Education%20Limited%20%282018%29_0.pdf'\n",
        "pdf_path = 'Mathematics_for_Economics.pdf'\n",
        "\n",
        "# Download the PDF file if it doesn't exist\n",
        "if not os.path.exists(pdf_path):\n",
        "    response = requests.get(pdf_url)\n",
        "    with open(pdf_path, 'wb') as file:\n",
        "        file.write(response.content)\n",
        "\n",
        "# Streamlit app\n",
        "st.title(\"Mathematics for Economics Question Answering\")\n",
        "\n",
        "query_input = st.text_input(\"Enter your question:\")\n",
        "\n",
        "if st.button(\"LLM\"):\n",
        "  with st.spinner(\"Generating answer LLM...\"):\n",
        "        answer_llm = llm_chain.invoke({'query': query_input})\n",
        "        st.write(\"Answer LLM:\")\n",
        "        st.write(answer_llm)\n",
        "\n",
        "if st.button(\"RAG\"):\n",
        "  with st.spinner(\"Generating answer RAG...\"):\n",
        "        answer_rag = rag_chain.invoke({'pdf_path': pdf_path, 'query': query_input, 'db_path': persistent_directory})\n",
        "        st.write(\"Answer RAG:\")\n",
        "        st.write(answer_rag)"
      ]
    },
    {
      "cell_type": "code",
      "execution_count": 34,
      "metadata": {
        "colab": {
          "base_uri": "https://localhost:8080/"
        },
        "id": "HcVystRjW9YM",
        "outputId": "60f74ee5-a218-4b80-88d5-35ec89d2ae91"
      },
      "outputs": [
        {
          "output_type": "stream",
          "name": "stdout",
          "text": [
            "\u001b[1G\u001b[0K⠙\u001b[1G\u001b[0K⠹\u001b[1G\u001b[0K⠸\u001b[1G\u001b[0K⠼\u001b[1G\u001b[0K⠴\u001b[1G\u001b[0K⠦\u001b[1G\u001b[0K⠧\u001b[1G\u001b[0K⠇\u001b[1G\u001b[0K⠏\u001b[1G\u001b[0K⠋\u001b[1G\u001b[0K⠙\u001b[1G\u001b[0K⠹\u001b[1G\u001b[0K⠸\u001b[1G\u001b[0K⠼\u001b[1G\u001b[0K⠴\u001b[1G\u001b[0K⠦\u001b[1G\u001b[0K⠧\u001b[1G\u001b[0K⠇\u001b[1G\u001b[0K⠏\u001b[1G\u001b[0K⠋\u001b[1G\u001b[0K⠙\u001b[1G\u001b[0K⠹\u001b[1G\u001b[0K⠸\u001b[1G\u001b[0K⠼\u001b[1G\u001b[0K⠴\u001b[1G\u001b[0K⠦\u001b[1G\u001b[0K⠧\u001b[1G\u001b[0K⠇\u001b[1G\u001b[0K⠏\u001b[1G\u001b[0K⠋\u001b[1G\u001b[0K\n",
            "added 22 packages in 4s\n",
            "\u001b[1G\u001b[0K⠋\u001b[1G\u001b[0K\n",
            "\u001b[1G\u001b[0K⠋\u001b[1G\u001b[0K3 packages are looking for funding\n",
            "\u001b[1G\u001b[0K⠋\u001b[1G\u001b[0K  run `npm fund` for details\n",
            "\u001b[1G\u001b[0K⠋\u001b[1G\u001b[0K"
          ]
        }
      ],
      "source": [
        "!npm install localtunnel"
      ]
    },
    {
      "cell_type": "code",
      "execution_count": null,
      "metadata": {
        "colab": {
          "base_uri": "https://localhost:8080/"
        },
        "id": "4a42cec1",
        "outputId": "e9c289f4-bc12-4066-f741-4ae558017175"
      },
      "outputs": [
        {
          "output_type": "stream",
          "name": "stdout",
          "text": [
            "34.16.30.219\n",
            "\u001b[1G\u001b[0K⠙\u001b[1G\u001b[0Kyour url is: https://green-cooks-behave.loca.lt\n"
          ]
        }
      ],
      "source": [
        "!streamlit run app.py &>/content/logs.txt & npx localtunnel --port 8501 & curl ipv4.icanhazip.com"
      ]
    }
  ],
  "metadata": {
    "colab": {
      "provenance": [],
      "include_colab_link": true
    },
    "kernelspec": {
      "display_name": "Python 3",
      "name": "python3"
    },
    "language_info": {
      "name": "python"
    }
  },
  "nbformat": 4,
  "nbformat_minor": 0
}